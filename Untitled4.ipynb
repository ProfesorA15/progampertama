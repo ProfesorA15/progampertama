{
  "nbformat": 4,
  "nbformat_minor": 0,
  "metadata": {
    "colab": {
      "provenance": [],
      "authorship_tag": "ABX9TyN0ANmFcV2jSsvq0NS+o3tx",
      "include_colab_link": true
    },
    "kernelspec": {
      "name": "python3",
      "display_name": "Python 3"
    },
    "language_info": {
      "name": "python"
    }
  },
  "cells": [
    {
      "cell_type": "markdown",
      "metadata": {
        "id": "view-in-github",
        "colab_type": "text"
      },
      "source": [
        "<a href=\"https://colab.research.google.com/github/ProfesorA15/progampertama/blob/main/Untitled4.ipynb\" target=\"_parent\"><img src=\"https://colab.research.google.com/assets/colab-badge.svg\" alt=\"Open In Colab\"/></a>"
      ]
    },
    {
      "cell_type": "code",
      "execution_count": 1,
      "metadata": {
        "colab": {
          "base_uri": "https://localhost:8080/"
        },
        "id": "mvB8KySy6qpB",
        "outputId": "6b3e5ab3-7cb6-47bd-e058-5f59c68b59b5"
      },
      "outputs": [
        {
          "output_type": "execute_result",
          "data": {
            "text/plain": [
              "15"
            ]
          },
          "metadata": {},
          "execution_count": 1
        }
      ],
      "source": [
        ">>> 10 + 5"
      ]
    },
    {
      "cell_type": "code",
      "source": [
        ">>> 10 - 50"
      ],
      "metadata": {
        "colab": {
          "base_uri": "https://localhost:8080/"
        },
        "id": "Cc8fThbz7AN5",
        "outputId": "c1ca7a76-3f5d-4259-b873-457ac3f2b12e"
      },
      "execution_count": 2,
      "outputs": [
        {
          "output_type": "execute_result",
          "data": {
            "text/plain": [
              "-40"
            ]
          },
          "metadata": {},
          "execution_count": 2
        }
      ]
    },
    {
      "cell_type": "code",
      "source": [
        ">>> 10 ** 5"
      ],
      "metadata": {
        "colab": {
          "base_uri": "https://localhost:8080/"
        },
        "id": "LovJiGOE7S7U",
        "outputId": "54b06d39-7ad9-4db2-9bec-237b5823f910"
      },
      "execution_count": 3,
      "outputs": [
        {
          "output_type": "execute_result",
          "data": {
            "text/plain": [
              "100000"
            ]
          },
          "metadata": {},
          "execution_count": 3
        }
      ]
    },
    {
      "cell_type": "code",
      "source": [
        ">>> 10 / 5"
      ],
      "metadata": {
        "colab": {
          "base_uri": "https://localhost:8080/"
        },
        "id": "T9lE89797jK0",
        "outputId": "aca3ffce-481d-4cf4-d0a1-10daeec761dd"
      },
      "execution_count": 4,
      "outputs": [
        {
          "output_type": "execute_result",
          "data": {
            "text/plain": [
              "2.0"
            ]
          },
          "metadata": {},
          "execution_count": 4
        }
      ]
    },
    {
      "cell_type": "code",
      "source": [
        ">>> 10 // 5"
      ],
      "metadata": {
        "colab": {
          "base_uri": "https://localhost:8080/"
        },
        "id": "P5fZxwko7m5M",
        "outputId": "eba3dfa4-15de-4a24-991f-323a0f046855"
      },
      "execution_count": 5,
      "outputs": [
        {
          "output_type": "execute_result",
          "data": {
            "text/plain": [
              "2"
            ]
          },
          "metadata": {},
          "execution_count": 5
        }
      ]
    },
    {
      "cell_type": "code",
      "source": [
        ">>> 10 % 5"
      ],
      "metadata": {
        "colab": {
          "base_uri": "https://localhost:8080/"
        },
        "id": "fNllcy4O7zZZ",
        "outputId": "1ac5279f-0bb3-4600-add2-769de0ad91f0"
      },
      "execution_count": 6,
      "outputs": [
        {
          "output_type": "execute_result",
          "data": {
            "text/plain": [
              "0"
            ]
          },
          "metadata": {},
          "execution_count": 6
        }
      ]
    },
    {
      "cell_type": "code",
      "source": [
        ">>> 100 % 5"
      ],
      "metadata": {
        "colab": {
          "base_uri": "https://localhost:8080/"
        },
        "id": "ceatyv7p8BOk",
        "outputId": "c0552a1e-b43d-45a0-9086-4fd9e3e865ea"
      },
      "execution_count": 7,
      "outputs": [
        {
          "output_type": "execute_result",
          "data": {
            "text/plain": [
              "0"
            ]
          },
          "metadata": {},
          "execution_count": 7
        }
      ]
    },
    {
      "cell_type": "code",
      "source": [
        ">>> 70 / 2"
      ],
      "metadata": {
        "colab": {
          "base_uri": "https://localhost:8080/"
        },
        "id": "OsxArOMK8Pwc",
        "outputId": "c29870e9-ac2c-4e0c-8093-77ba97a74ecd"
      },
      "execution_count": 9,
      "outputs": [
        {
          "output_type": "execute_result",
          "data": {
            "text/plain": [
              "35.0"
            ]
          },
          "metadata": {},
          "execution_count": 9
        }
      ]
    },
    {
      "cell_type": "code",
      "source": [
        "a, b = 7, 2"
      ],
      "metadata": {
        "id": "jFj9_8oF8VlM"
      },
      "execution_count": 10,
      "outputs": []
    },
    {
      "cell_type": "code",
      "source": [
        "print(a, '+', b, '=', a + b)\n",
        "print(a, '-', b, '=', a - b)\n",
        "print(a, '*', b, '=', a * b)\n",
        "print(a, '/', b, '=', a / b)\n",
        "print(a, '%', b, '=', a % b)\n",
        "print(a, '**', b, '=', a ** b)\n",
        "print(a, '//', b, '=', a // b)"
      ],
      "metadata": {
        "colab": {
          "base_uri": "https://localhost:8080/"
        },
        "id": "cP0exbOl8m_c",
        "outputId": "32137279-c1f8-4c21-ea04-a0bcfc382fa6"
      },
      "execution_count": 11,
      "outputs": [
        {
          "output_type": "stream",
          "name": "stdout",
          "text": [
            "7 + 2 = 9\n",
            "7 - 2 = 5\n",
            "7 * 2 = 14\n",
            "7 / 2 = 3.5\n",
            "7 % 2 = 1\n",
            "7 ** 2 = 49\n",
            "7 // 2 = 3\n"
          ]
        }
      ]
    },
    {
      "cell_type": "code",
      "source": [
        "7 > 7"
      ],
      "metadata": {
        "colab": {
          "base_uri": "https://localhost:8080/"
        },
        "id": "sTzvY_cpA5h-",
        "outputId": "4c11120a-0198-4919-c39f-114bf724e7b7"
      },
      "execution_count": 12,
      "outputs": [
        {
          "output_type": "execute_result",
          "data": {
            "text/plain": [
              "False"
            ]
          },
          "metadata": {},
          "execution_count": 12
        }
      ]
    },
    {
      "cell_type": "code",
      "source": [
        "5 == 5"
      ],
      "metadata": {
        "colab": {
          "base_uri": "https://localhost:8080/"
        },
        "id": "T9Nx2_BWBJPr",
        "outputId": "4e409b64-e2f3-437f-cfe8-24cdd451e35d"
      },
      "execution_count": 13,
      "outputs": [
        {
          "output_type": "execute_result",
          "data": {
            "text/plain": [
              "True"
            ]
          },
          "metadata": {},
          "execution_count": 13
        }
      ]
    },
    {
      "cell_type": "code",
      "source": [
        "8 <= 7"
      ],
      "metadata": {
        "colab": {
          "base_uri": "https://localhost:8080/"
        },
        "id": "zg2JsBR4BQU0",
        "outputId": "546c7e88-6261-45e8-911e-4fb0edb0c17c"
      },
      "execution_count": 14,
      "outputs": [
        {
          "output_type": "execute_result",
          "data": {
            "text/plain": [
              "False"
            ]
          },
          "metadata": {},
          "execution_count": 14
        }
      ]
    },
    {
      "cell_type": "code",
      "source": [
        "8 <= 9"
      ],
      "metadata": {
        "colab": {
          "base_uri": "https://localhost:8080/"
        },
        "id": "UbPyCDy7BY6L",
        "outputId": "e6358d3e-f4c7-4572-d139-9758583f5330"
      },
      "execution_count": 15,
      "outputs": [
        {
          "output_type": "execute_result",
          "data": {
            "text/plain": [
              "True"
            ]
          },
          "metadata": {},
          "execution_count": 15
        }
      ]
    },
    {
      "cell_type": "code",
      "source": [
        "7 != 5"
      ],
      "metadata": {
        "colab": {
          "base_uri": "https://localhost:8080/"
        },
        "id": "ym2uXoncBdlD",
        "outputId": "60e86805-5542-4566-a4c6-583f1c9a9cac"
      },
      "execution_count": 16,
      "outputs": [
        {
          "output_type": "execute_result",
          "data": {
            "text/plain": [
              "True"
            ]
          },
          "metadata": {},
          "execution_count": 16
        }
      ]
    },
    {
      "cell_type": "code",
      "source": [
        "x, y = 30, 19"
      ],
      "metadata": {
        "id": "dbfA_4pDBj07"
      },
      "execution_count": 17,
      "outputs": []
    },
    {
      "cell_type": "code",
      "source": [
        "print(x, '+', y, '=', x + y)\n",
        "print(y, '-', x, '=', y - x)\n",
        "print(x, '*', y, '=', x * y)\n",
        "print(y, '/', x, '=', y / x)\n",
        "print(x, '%', y, '=', x % y)\n",
        "print(y, '**', x, '=', y ** x)\n",
        "print(x, '//', y, '=', x // y)"
      ],
      "metadata": {
        "colab": {
          "base_uri": "https://localhost:8080/"
        },
        "id": "NRFc7GKHCDZd",
        "outputId": "023a2587-40b4-48c3-c186-a359f8306bec"
      },
      "execution_count": 18,
      "outputs": [
        {
          "output_type": "stream",
          "name": "stdout",
          "text": [
            "30 + 19 = 49\n",
            "19 - 30 = -11\n",
            "30 * 19 = 570\n",
            "19 / 30 = 0.6333333333333333\n",
            "30 % 19 = 11\n",
            "19 ** 30 = 230466617897195215045509519405933293401\n",
            "30 // 19 = 1\n"
          ]
        }
      ]
    },
    {
      "cell_type": "code",
      "source": [
        "print(x, '>', y, '=', x > y)\n",
        "print(y, '<', x, '=', y < x)\n",
        "print(x, '==', y, '=', x == y)\n",
        "print(y, '!=', x, '=', y != x)\n",
        "print(y, '>=', x, '=', y >= x)\n",
        "print(x, '<=', y, '=', x <= y)"
      ],
      "metadata": {
        "colab": {
          "base_uri": "https://localhost:8080/"
        },
        "id": "dsXyYeR6CxQO",
        "outputId": "8373d6f2-7456-419d-fd09-e5b1f972fe43"
      },
      "execution_count": 20,
      "outputs": [
        {
          "output_type": "stream",
          "name": "stdout",
          "text": [
            "30 > 19 = True\n",
            "19 < 30 = True\n",
            "30 == 19 = False\n",
            "19 != 30 = True\n",
            "19 >= 30 = False\n",
            "30 <= 19 = False\n"
          ]
        }
      ]
    },
    {
      "cell_type": "code",
      "source": [
        "x, y, c, d = 3, 4, 5, -5"
      ],
      "metadata": {
        "id": "jojMM037DYQ0"
      },
      "execution_count": 1,
      "outputs": []
    },
    {
      "cell_type": "code",
      "source": [
        "print(y, '+', c, '*', x, '=', y + c * x)"
      ],
      "metadata": {
        "colab": {
          "base_uri": "https://localhost:8080/"
        },
        "id": "V1LzSqbZI_47",
        "outputId": "16dba280-900f-437a-c9ef-972e81a358e6"
      },
      "execution_count": 6,
      "outputs": [
        {
          "output_type": "stream",
          "name": "stdout",
          "text": [
            "4 + 5 * 3 = 19\n"
          ]
        }
      ]
    },
    {
      "cell_type": "code",
      "source": [
        "print(y, '+', c, '*', x, '=', y + c * x)\n",
        "print(y, '-', d, '**', x, '=', y + d ** x)\n",
        "print(d, '//', y, '*', x, '=', d // c * x)"
      ],
      "metadata": {
        "colab": {
          "base_uri": "https://localhost:8080/"
        },
        "id": "0Ydd70dWKAWU",
        "outputId": "b0a29070-b991-4a29-ddb2-f9b0644d0d63"
      },
      "execution_count": 7,
      "outputs": [
        {
          "output_type": "stream",
          "name": "stdout",
          "text": [
            "4 + 5 * 3 = 19\n",
            "4 - 110 ** 3 = 1331004\n",
            "110 // 4 * 3 = 66\n"
          ]
        }
      ]
    },
    {
      "cell_type": "code",
      "source": [
        "print(y, '>', c, '>', x, '=', y > c > x)"
      ],
      "metadata": {
        "colab": {
          "base_uri": "https://localhost:8080/"
        },
        "id": "CFc5bcLGKk3D",
        "outputId": "dd190719-e6a8-48c3-dcb6-4b8fb53c013f"
      },
      "execution_count": 8,
      "outputs": [
        {
          "output_type": "stream",
          "name": "stdout",
          "text": [
            "4 > 5 > 3 = False\n"
          ]
        }
      ]
    },
    {
      "cell_type": "code",
      "source": [
        "a = 10\n",
        "print('a = 10 -> ', a)"
      ],
      "metadata": {
        "colab": {
          "base_uri": "https://localhost:8080/"
        },
        "id": "SJD6KqdTK8Qa",
        "outputId": "d0a56e91-8f20-42ed-b51e-edac01aa2925"
      },
      "execution_count": 9,
      "outputs": [
        {
          "output_type": "stream",
          "name": "stdout",
          "text": [
            "a = 10 ->  10\n"
          ]
        }
      ]
    },
    {
      "cell_type": "code",
      "source": [
        "a = int(a)"
      ],
      "metadata": {
        "id": "SfH1uhDZMRkC"
      },
      "execution_count": 10,
      "outputs": []
    },
    {
      "cell_type": "code",
      "source": [
        "a /= 9\n",
        "print('a /= 9 -> ', a)"
      ],
      "metadata": {
        "colab": {
          "base_uri": "https://localhost:8080/"
        },
        "id": "eQc8k9cdMsna",
        "outputId": "e5aef04c-e7a0-4e03-b6dc-0a9032ac359e"
      },
      "execution_count": 13,
      "outputs": [
        {
          "output_type": "stream",
          "name": "stdout",
          "text": [
            "a /= 9 ->  1000000000.0\n"
          ]
        }
      ]
    },
    {
      "cell_type": "code",
      "source": [
        "print(True and True)"
      ],
      "metadata": {
        "colab": {
          "base_uri": "https://localhost:8080/"
        },
        "id": "wNhe0KkmNAXr",
        "outputId": "490083d5-44f0-4897-a4d7-ac1b20097a74"
      },
      "execution_count": 1,
      "outputs": [
        {
          "output_type": "stream",
          "name": "stdout",
          "text": [
            "True\n"
          ]
        }
      ]
    },
    {
      "cell_type": "code",
      "source": [
        "print(2 * 8 == 1 and True)"
      ],
      "metadata": {
        "colab": {
          "base_uri": "https://localhost:8080/"
        },
        "id": "5oPUy312NU_r",
        "outputId": "fb6fb6d7-8d3e-41bf-dfba-e268c6a9f8d7"
      },
      "execution_count": 4,
      "outputs": [
        {
          "output_type": "stream",
          "name": "stdout",
          "text": [
            "False\n"
          ]
        }
      ]
    },
    {
      "cell_type": "code",
      "source": [
        "print(False or 5 > 1)"
      ],
      "metadata": {
        "colab": {
          "base_uri": "https://localhost:8080/"
        },
        "id": "1aOPJbWKNjPv",
        "outputId": "8de6755d-585d-46f7-a43e-a2be86301de5"
      },
      "execution_count": 7,
      "outputs": [
        {
          "output_type": "stream",
          "name": "stdout",
          "text": [
            "True\n"
          ]
        }
      ]
    },
    {
      "cell_type": "code",
      "source": [
        "provinsi = 'Sumatra'\n",
        "list_daerah = ['Aceh', 'Riau', 'Padang', 'Bangka belitung']"
      ],
      "metadata": {
        "id": "aa8AdbhHOMdK"
      },
      "execution_count": 8,
      "outputs": []
    },
    {
      "cell_type": "code",
      "source": [
        "mahasiswa = {\n",
        "    'Nama': 'Sinta',\n",
        "    'Asal': 'Bangka'\n",
        "}"
      ],
      "metadata": {
        "id": "OiJKVqnwTwWj"
      },
      "execution_count": 13,
      "outputs": []
    },
    {
      "cell_type": "code",
      "source": [
        "print(\"Apakah 'm' ada si variabel provinsi?\", 'm' in provinsi)\n",
        "print(\"Apakah 'c' ada si variabel provinsi?\", 'm' not in provinsi)\n",
        "print(\"Apakah atribut 'nama' ada di variabel mahasiswa?\", 'nama' in mahasiswa)"
      ],
      "metadata": {
        "colab": {
          "base_uri": "https://localhost:8080/"
        },
        "id": "jd587SIEUWxZ",
        "outputId": "a9d674a7-2114-4bfe-8909-4513d8503d22"
      },
      "execution_count": 17,
      "outputs": [
        {
          "output_type": "stream",
          "name": "stdout",
          "text": [
            "Apakah 'm' ada si variabel provinsi? True\n",
            "Apakah 'c' ada si variabel provinsi? False\n",
            "Apakah atribut 'nama' ada di variabel mahasiswa? False\n"
          ]
        }
      ]
    },
    {
      "cell_type": "code",
      "source": [
        "x = 3\n",
        "y = 3\n",
        "nama_x = 'fia'\n",
        "nama_y = 'yanto'"
      ],
      "metadata": {
        "id": "sbsErhK3Vyng"
      },
      "execution_count": 1,
      "outputs": []
    },
    {
      "cell_type": "code",
      "source": [
        "print('x is y:', x is y)\n",
        "print('nama_x is nama_y:', nama_x is nama_y)"
      ],
      "metadata": {
        "colab": {
          "base_uri": "https://localhost:8080/"
        },
        "id": "bglEqd-gWecz",
        "outputId": "428a1cd6-6081-4ee4-bba4-ff2fc1b7bc05"
      },
      "execution_count": 2,
      "outputs": [
        {
          "output_type": "stream",
          "name": "stdout",
          "text": [
            "x is y: True\n",
            "nama_x is nama_y: False\n"
          ]
        }
      ]
    },
    {
      "cell_type": "code",
      "source": [
        "#operator identitas"
      ],
      "metadata": {
        "id": "gc8J_VrBWwnh"
      },
      "execution_count": 3,
      "outputs": []
    },
    {
      "cell_type": "code",
      "source": [
        ">>> id('hijau')\n",
        "1356432890011\n",
        ">>> id('hijau')\n",
        "1356432890011\n",
        ">>>"
      ],
      "metadata": {
        "colab": {
          "base_uri": "https://localhost:8080/"
        },
        "id": "YTlVkXVVXpDL",
        "outputId": "9648b8ee-4ab4-4f1a-df71-7c1bb1d2b040"
      },
      "execution_count": 7,
      "outputs": [
        {
          "output_type": "execute_result",
          "data": {
            "text/plain": [
              "1356432890011"
            ]
          },
          "metadata": {},
          "execution_count": 7
        }
      ]
    },
    {
      "cell_type": "code",
      "source": [
        ">>> id('10')\n",
        "1356432890011"
      ],
      "metadata": {
        "colab": {
          "base_uri": "https://localhost:8080/"
        },
        "id": "AwymgvT3YbTk",
        "outputId": "bdbff749-058c-4248-f7e2-732e5e670823"
      },
      "execution_count": 8,
      "outputs": [
        {
          "output_type": "execute_result",
          "data": {
            "text/plain": [
              "1356432890011"
            ]
          },
          "metadata": {},
          "execution_count": 8
        }
      ]
    }
  ]
}
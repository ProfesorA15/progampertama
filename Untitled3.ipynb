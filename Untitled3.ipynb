{
  "nbformat": 4,
  "nbformat_minor": 0,
  "metadata": {
    "colab": {
      "provenance": [],
      "authorship_tag": "ABX9TyMi5Y/y/0px84TZYRRBn+T1",
      "include_colab_link": true
    },
    "kernelspec": {
      "name": "python3",
      "display_name": "Python 3"
    },
    "language_info": {
      "name": "python"
    }
  },
  "cells": [
    {
      "cell_type": "markdown",
      "metadata": {
        "id": "view-in-github",
        "colab_type": "text"
      },
      "source": [
        "<a href=\"https://colab.research.google.com/github/ProfesorA15/progampertama/blob/main/Untitled3.ipynb\" target=\"_parent\"><img src=\"https://colab.research.google.com/assets/colab-badge.svg\" alt=\"Open In Colab\"/></a>"
      ]
    },
    {
      "cell_type": "code",
      "execution_count": null,
      "metadata": {
        "colab": {
          "base_uri": "https://localhost:8080/"
        },
        "id": "iM8OOZclCG4t",
        "outputId": "43b904f1-97bb-4c60-b2f7-d4c1c9968155"
      },
      "outputs": [
        {
          "output_type": "stream",
          "name": "stdout",
          "text": [
            "('anggur', 'jeruk', 'mangga', 'tomat', 'naha')\n"
          ]
        }
      ],
      "source": [
        "\n",
        "jus_buah = ('anggur', 'jeruk', 'mangga', 'tomat', 'naha')\n",
        "print (jus_buah)"
      ]
    },
    {
      "cell_type": "code",
      "source": [
        "\n",
        "print (jus_buah[1])"
      ],
      "metadata": {
        "colab": {
          "base_uri": "https://localhost:8080/"
        },
        "id": "2Apu9dh-Ctit",
        "outputId": "f32edffc-0984-445a-a507-85502aa8042a"
      },
      "execution_count": null,
      "outputs": [
        {
          "output_type": "stream",
          "name": "stdout",
          "text": [
            "jeruk\n"
          ]
        }
      ]
    },
    {
      "cell_type": "code",
      "source": [
        "print (jus_buah[3])"
      ],
      "metadata": {
        "colab": {
          "base_uri": "https://localhost:8080/"
        },
        "id": "4ZM1ReUVC9qn",
        "outputId": "7bad0c44-2a2f-457a-817b-3fab7a0e2571"
      },
      "execution_count": null,
      "outputs": [
        {
          "output_type": "stream",
          "name": "stdout",
          "text": [
            "tomat\n"
          ]
        }
      ]
    },
    {
      "cell_type": "code",
      "source": [
        "print (jus_buah[0:1])"
      ],
      "metadata": {
        "colab": {
          "base_uri": "https://localhost:8080/"
        },
        "id": "l6DiUdacDJDm",
        "outputId": "6c07d29d-49a5-4f0b-9f33-ea1ba11ca9a2"
      },
      "execution_count": null,
      "outputs": [
        {
          "output_type": "stream",
          "name": "stdout",
          "text": [
            "('anggur',)\n"
          ]
        }
      ]
    },
    {
      "cell_type": "code",
      "source": [
        "print (jus_buah[-1:1])"
      ],
      "metadata": {
        "colab": {
          "base_uri": "https://localhost:8080/"
        },
        "id": "-aBMaKzpDUMx",
        "outputId": "f9dc737f-5205-4971-a0eb-8238b5e29396"
      },
      "execution_count": null,
      "outputs": [
        {
          "output_type": "stream",
          "name": "stdout",
          "text": [
            "()\n"
          ]
        }
      ]
    },
    {
      "cell_type": "code",
      "source": [
        "print (jus_buah[0:-2])"
      ],
      "metadata": {
        "colab": {
          "base_uri": "https://localhost:8080/"
        },
        "id": "9_rNDNHSDaC0",
        "outputId": "fcadf864-d858-4700-f363-93b8d1a2e378"
      },
      "execution_count": null,
      "outputs": [
        {
          "output_type": "stream",
          "name": "stdout",
          "text": [
            "('anggur', 'jeruk', 'mangga')\n"
          ]
        }
      ]
    },
    {
      "cell_type": "code",
      "source": [
        "Jus_buah = ('anggur', 'mangga', 'jeruk', 'semangka')"
      ],
      "metadata": {
        "id": "hZy8cTxWDiXq"
      },
      "execution_count": null,
      "outputs": []
    },
    {
      "cell_type": "code",
      "source": [
        "buah1, buah2, buah3, buah4 = Jus_buah"
      ],
      "metadata": {
        "id": "ZHfXWLiXEBH-"
      },
      "execution_count": null,
      "outputs": []
    },
    {
      "cell_type": "code",
      "source": [
        "print('Buah1', buah1)\n",
        "print('Buah2:', buah2)\n",
        "print('Buah3:', buah3)\n",
        "print('Buah4:', buah4)"
      ],
      "metadata": {
        "colab": {
          "base_uri": "https://localhost:8080/"
        },
        "id": "tqqBFEpuESPQ",
        "outputId": "a4103822-23c3-4a77-d13a-95011b42fd3d"
      },
      "execution_count": null,
      "outputs": [
        {
          "output_type": "stream",
          "name": "stdout",
          "text": [
            "Buah1 anggur\n",
            "Buah2: mangga\n",
            "Buah3: jeruk\n",
            "Buah4: semangka\n"
          ]
        }
      ]
    }
  ]
}
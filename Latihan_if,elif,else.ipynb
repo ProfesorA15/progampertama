{
  "nbformat": 4,
  "nbformat_minor": 0,
  "metadata": {
    "colab": {
      "provenance": []
    },
    "kernelspec": {
      "name": "python3",
      "display_name": "Python 3"
    },
    "language_info": {
      "name": "python"
    }
  },
  "cells": [
    {
      "cell_type": "code",
      "execution_count": null,
      "metadata": {
        "colab": {
          "base_uri": "https://localhost:8080/"
        },
        "id": "iY0buyLBdcv9",
        "outputId": "fc5dedf2-1549-4476-ffcd-12d5be8a9046"
      },
      "outputs": [
        {
          "output_type": "stream",
          "name": "stdout",
          "text": [
            "Kode program ini akan dieksekusi\n",
            "Kode program ini akan selalu dieksekusi karena tidak termasuk percobaan\n"
          ]
        }
      ],
      "source": [
        "if True:\n",
        "  print('Kode program ini akan dieksekusi')\n",
        "\n",
        "if False:\n",
        "  print('Kode program ini tidak akan dieksekusi')\n",
        "print('Kode program ini akan selalu dieksekusi karena tidak termasuk percobaan')"
      ]
    },
    {
      "cell_type": "code",
      "source": [
        "nilai = 70.5\n",
        "print('Nilai anda adalah:', nilai, '\\n')\n",
        "if nilai >= 70:\n",
        "  print('Selamat, anda lulus!')\n",
        "else:\n",
        "  print('Maaf, anda tidak lulus.')"
      ],
      "metadata": {
        "colab": {
          "base_uri": "https://localhost:8080/"
        },
        "id": "Q3pt7MVhhpEo",
        "outputId": "6e9274aa-1d37-443c-993e-031c3308f912"
      },
      "execution_count": null,
      "outputs": [
        {
          "output_type": "stream",
          "name": "stdout",
          "text": [
            "Nilai anda adalah: 70.5 \n",
            "\n",
            "Selamat, anda lulus!\n"
          ]
        }
      ]
    },
    {
      "cell_type": "code",
      "source": [
        "nilai = int(input('Masukan nilai anda:'))\n",
        "print('Nilai anda adalah:', nilai, '\\n')\n",
        "if nilai >= 70:\n",
        "  print('Selamat, anda lulus!')\n",
        "else:\n",
        "  print('Maaf, anda tidak lulus.')"
      ],
      "metadata": {
        "colab": {
          "base_uri": "https://localhost:8080/"
        },
        "id": "E0WBPRpFkLrZ",
        "outputId": "65b0da1f-90fd-4d0a-abdb-7b5bc9aed4d0"
      },
      "execution_count": null,
      "outputs": [
        {
          "output_type": "stream",
          "name": "stdout",
          "text": [
            "Masukan nilai anda:40\n",
            "Nilai anda adalah: 40 \n",
            "\n",
            "Maaf, anda tidak lulus.\n"
          ]
        }
      ]
    },
    {
      "cell_type": "code",
      "source": [
        "nilai = int(input('Masukan nilai anda:'))\n",
        "\n",
        "if nilai >= 90:\n",
        "  print('Predikat A')\n",
        "if nilai >= 90:\n",
        "  print('Predikat A')\n",
        "elif nilai >= 80:\n",
        "  print('Predikat B')\n",
        "elif nilai >= 60:\n",
        "  print('Predikat C')\n",
        "elif nilai >= 40:\n",
        "  print('Predikat D')\n",
        "else:\n",
        "  print('Predikat E')"
      ],
      "metadata": {
        "colab": {
          "base_uri": "https://localhost:8080/"
        },
        "id": "5gtfPA0PkLsW",
        "outputId": "bd634313-23f1-4791-d3f3-bc7fd6dbc1a9"
      },
      "execution_count": null,
      "outputs": [
        {
          "output_type": "stream",
          "name": "stdout",
          "text": [
            "Masukan nilai anda:75\n",
            "Predikat C\n"
          ]
        }
      ]
    },
    {
      "cell_type": "code",
      "source": [
        "uah_yabuah_yang_tersedia = ['Jeruk', 'Mangga', 'Nanas', 'Apel']\n",
        "bng_dicari = input('Masukan nama buah dalam huruf kapital: ')\n",
        "if (buah_yang_dicari in buah_yang_tersedia):\n",
        "  print('Buah yang anda cari tersedia!')\n",
        "else:\n",
        "  print('Buah yang anda cari tidak tersedia!')"
      ],
      "metadata": {
        "colab": {
          "base_uri": "https://localhost:8080/"
        },
        "id": "0tvqzVsXnspg",
        "outputId": "402e5160-7e98-47a1-ab99-22fe37eaeddc"
      },
      "execution_count": null,
      "outputs": [
        {
          "output_type": "stream",
          "name": "stdout",
          "text": [
            "Masukan nama buah dalam huruf kapital: Apel\n",
            "Buah yang anda cari tersedia!\n"
          ]
        }
      ]
    },
    {
      "cell_type": "code",
      "source": [
        "nilai = int(input('Masukan nilai anda:'))\n",
        "usia = int(input('Masukan nilai anda:'))\n",
        "if nilai >= 70:\n",
        "  if nilai < 15:\n",
        "    print('Selamat adek, kamu lulus!')\n",
        "  else:\n",
        "    print('Selamat kakak, kamu lulus!')\n",
        "else:\n",
        "  if (usia < 15):\n",
        "    print('Nice try, ya dek!')\n",
        "  else:\n",
        "    print('Nice try, bro!' )"
      ],
      "metadata": {
        "colab": {
          "base_uri": "https://localhost:8080/"
        },
        "id": "HBqse13ho6pW",
        "outputId": "9c1855bb-387d-440f-be03-dba937e49f5d"
      },
      "execution_count": null,
      "outputs": [
        {
          "output_type": "stream",
          "name": "stdout",
          "text": [
            "Masukan nilai anda:80\n",
            "Masukan nilai anda:24\n",
            "Selamat kakak, kamu lulus!\n"
          ]
        }
      ]
    }
  ]
}